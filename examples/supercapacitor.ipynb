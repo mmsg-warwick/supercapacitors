{
 "cells": [
  {
   "cell_type": "markdown",
   "metadata": {},
   "source": [
    "# How to run the supercapacitor model"
   ]
  },
  {
   "cell_type": "markdown",
   "metadata": {},
   "source": [
    "This notebook shows how to run the supercapacitor model. The model is implemented in the `supercapacitor_model.py` file. The model is based on the paper [\"Microstructural Analysis and Mathematical Modeling of Electric Double-Layer Supercapacitors\"](https://www.doi.org/10.1149/1.1878052) by Mark W. Verbrugge and Ping Liu. For this notebook to run, you need to ensure first that you installed this repository as described in the README file.\n",
    "\n",
    "First we need to import PyBaMM and the supercapacitors package that contains the supercapacitor model and parameters."
   ]
  },
  {
   "cell_type": "code",
   "execution_count": 1,
   "metadata": {},
   "outputs": [],
   "source": [
    "import pybamm\n",
    "\n",
    "import supercapacitors"
   ]
  },
  {
   "cell_type": "markdown",
   "metadata": {},
   "source": [
    "Now, we can define the model. In this case, the model comes from the supercapacitor model package and it is called `VerbruggeLiu`."
   ]
  },
  {
   "cell_type": "code",
   "execution_count": 2,
   "metadata": {},
   "outputs": [],
   "source": [
    "model = supercapacitors.Model(\"VerbruggeLiu\")"
   ]
  },
  {
   "cell_type": "markdown",
   "metadata": {},
   "source": [
    "Similarly, we call the parameter set from the supercapacitor model package."
   ]
  },
  {
   "cell_type": "code",
   "execution_count": 3,
   "metadata": {},
   "outputs": [],
   "source": [
    "# Verbrugge & Liu (2005) parameter set\n",
    "parameter_values = pybamm.ParameterValues(supercapacitors.parameter_sets[\"Verbrugge2005\"])"
   ]
  },
  {
   "cell_type": "markdown",
   "metadata": {},
   "source": [
    "We can now simply create a simulation with this new model and parameters, as usual. When solving, we need to specify `calc_esoh=False` as this applies only to lithium-ion battery models."
   ]
  },
  {
   "cell_type": "code",
   "execution_count": 4,
   "metadata": {},
   "outputs": [
    {
     "data": {
      "text/plain": [
       "<pybamm.solvers.solution.Solution at 0x7f49d4aa9510>"
      ]
     },
     "execution_count": 4,
     "metadata": {},
     "output_type": "execute_result"
    }
   ],
   "source": [
    "experiment = pybamm.Experiment([\n",
    "    \"Charge at 100 A until 2.2 V\",\n",
    "    \"Hold at 1.4 V for 10 seconds\",\n",
    "])\n",
    "sim = pybamm.Simulation(model, parameter_values=parameter_values, experiment=experiment, solver=pybamm.IDAKLUSolver())\n",
    "sim.solve(calc_esoh=False)"
   ]
  },
  {
   "cell_type": "markdown",
   "metadata": {},
   "source": [
    "Finally, we can plot the results."
   ]
  },
  {
   "cell_type": "code",
   "execution_count": 5,
   "metadata": {},
   "outputs": [
    {
     "data": {
      "application/vnd.jupyter.widget-view+json": {
       "model_id": "03f043f4e3434c4ca3fb9639320129ba",
       "version_major": 2,
       "version_minor": 0
      },
      "text/plain": [
       "interactive(children=(FloatSlider(value=0.0, description='t', max=59.543980849471474, step=0.5954398084947148)…"
      ]
     },
     "metadata": {},
     "output_type": "display_data"
    },
    {
     "data": {
      "text/plain": [
       "<pybamm.plotting.quick_plot.QuickPlot at 0x7f49d8f1cb10>"
      ]
     },
     "execution_count": 5,
     "metadata": {},
     "output_type": "execute_result"
    }
   ],
   "source": [
    "sim.plot()"
   ]
  },
  {
   "cell_type": "code",
   "execution_count": null,
   "metadata": {},
   "outputs": [],
   "source": []
  }
 ],
 "metadata": {
  "kernelspec": {
   "display_name": "venv",
   "language": "python",
   "name": "python3"
  },
  "language_info": {
   "codemirror_mode": {
    "name": "ipython",
    "version": 3
   },
   "file_extension": ".py",
   "mimetype": "text/x-python",
   "name": "python",
   "nbconvert_exporter": "python",
   "pygments_lexer": "ipython3",
   "version": "3.11.6"
  }
 },
 "nbformat": 4,
 "nbformat_minor": 2
}
